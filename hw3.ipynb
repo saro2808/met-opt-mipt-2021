{
 "cells": [
  {
   "cell_type": "markdown",
   "metadata": {
    "id": "SCkfmHQkKVKR"
   },
   "source": [
    " \n",
    "Отправляйте .ipynb файл на почту katusha.borodich@yandex.ru с темой письма \"Фамилия_Имя_ДЗ_3\" .\n",
    "\n",
    "**Дедлайн: 20.12.21 23:59:59**"
   ]
  },
  {
   "cell_type": "markdown",
   "metadata": {
    "id": "PUxea7laqkcL"
   },
   "source": [
    "# Домашнее задание 3\n"
   ]
  },
  {
   "cell_type": "markdown",
   "metadata": {
    "id": "JLx4PznLSOhu"
   },
   "source": [
    "## Convergence speed"
   ]
  },
  {
   "cell_type": "markdown",
   "metadata": {
    "id": "5Vkt_Scs9ni1"
   },
   "source": [
    "*1. Show with the definition that the sequence $\\left\\{ \\dfrac{1}{k} \\right\\}_{k=1}^\\infty$ does not have a linear convergence rate (but it converges to zero).*"
   ]
  },
  {
   "cell_type": "markdown",
   "metadata": {},
   "source": [
    "__Solution__. Obviously the given sequence converges to zero. Since\n",
    "$$\\lim_{k\\to\\infty}\\left|\\frac{1/(k+1)-0}{1/k-0}\\right|=1\\notin(0,1)$$\n",
    "we conclude that the convergence rate is not linear."
   ]
  },
  {
   "cell_type": "markdown",
   "metadata": {
    "id": "iWiOLB_T9ni5"
   },
   "source": [
    "*2. Determine the convergence or divergence of a given sequence $r_{k} = 0.707^k$.*"
   ]
  },
  {
   "cell_type": "markdown",
   "metadata": {},
   "source": [
    "__Solution__. Here the limit is again zero and since\n",
    "$$|r_{k+1}-0|\\le Cq^k$$\n",
    "where $C=1, q=0.707$ we deduce that the convergence rate is linear (geometric progression)."
   ]
  },
  {
   "cell_type": "markdown",
   "metadata": {
    "id": "eh2hDr4h9ni8"
   },
   "source": [
    "*3. Determine the convergence or divergence of a given sequence $r_{k} = 0.707^{2^k}$*"
   ]
  },
  {
   "cell_type": "markdown",
   "metadata": {},
   "source": [
    "__Solution__. The sequence converges to zero with quadratic rate in force of the inequality\n",
    "$$|r_k-0|\\le Cq^{2^k}$$\n",
    "where $C=1, q=0.707$."
   ]
  },
  {
   "cell_type": "markdown",
   "metadata": {
    "id": "M-EIVz2w9ni_"
   },
   "source": [
    "*4. Determine the convergence or divergence of a given sequence $r_{k} = \\frac{1}{k!}$.*\n"
   ]
  },
  {
   "cell_type": "markdown",
   "metadata": {},
   "source": [
    "__Solution__. We have\n",
    "$$\\lim_{k\\to\\infty}\\frac{1/(k+1)!}{1/k!}=0$$\n",
    "so the sequence converges to zero superlinearly."
   ]
  },
  {
   "cell_type": "markdown",
   "metadata": {
    "id": "9dpEAKin0E0g"
   },
   "source": [
    "##Gradient descent, [Hobbit village](https://courses.cs.ut.ee/MTAT.03.227/2015_spring/uploads/Main/home-exercises-5.pdf)"
   ]
  },
  {
   "cell_type": "code",
   "execution_count": 1,
   "metadata": {
    "hidden": true,
    "id": "UYn1MBDT1vUr"
   },
   "outputs": [],
   "source": [
    "%matplotlib inline\n",
    "import numpy as np\n",
    "from matplotlib import pyplot as plt\n",
    "import matplotlib as mpl\n",
    "import random\n",
    "# import seaborn as sns\n",
    "import copy\n",
    "# sns.set()\n",
    "import warnings\n",
    "warnings.simplefilter(\"ignore\")"
   ]
  },
  {
   "cell_type": "markdown",
   "metadata": {
    "hidden": true,
    "id": "nNqH83Jz1vUs"
   },
   "source": [
    "Below one can find function plotting the village"
   ]
  },
  {
   "cell_type": "code",
   "execution_count": 5,
   "metadata": {
    "hidden": true,
    "id": "WzZzisMR1vUs"
   },
   "outputs": [],
   "source": [
    "def plot_village(coordinates, l=1):\n",
    "    # Checking, that all the coordinates are less than l\n",
    "    assert (coordinates <= l).all(), 'All the houses should be in a village'\n",
    "    \n",
    "    # Draw horizontal line\n",
    "    plt.hlines(0, 0, l)\n",
    "    plt.xlim(0, l)\n",
    "    plt.ylim(-0.5, 0.5)\n",
    "    \n",
    "    # Draw house points\n",
    "    y = np.zeros(np.shape(coordinates))\n",
    "    plt.title('The Hobbit Village')\n",
    "    plt.plot(coordinates,y,'o',ms = 10)\n",
    "    plt.axis('off')\n",
    "    plt.xlabel('Coordinates')\n",
    "    fig = plt.gcf()\n",
    "    fig.set_size_inches(15, 1)\n",
    "    plt.show()"
   ]
  },
  {
   "cell_type": "code",
   "execution_count": 21,
   "metadata": {
    "colab": {
     "base_uri": "https://localhost:8080/",
     "height": 101
    },
    "hidden": true,
    "id": "acc8i4yg1vUt",
    "outputId": "bbf8bde2-b427-4151-9fc9-03f55a43217d"
   },
   "outputs": [
    {
     "data": {
      "image/png": "[encoded data removed]",
      "text/plain": [
       "<Figure size 1080x72 with 1 Axes>"
      ]
     },
     "metadata": {
      "needs_background": "light"
     },
     "output_type": "display_data"
    }
   ],
   "source": [
    "N = 25\n",
    "l = 10\n",
    "x = np.random.rand(N)*l\n",
    "    \n",
    "plot_village(x, l)"
   ]
  },
  {
   "cell_type": "markdown",
   "metadata": {
    "id": "K6MxKTnnDXi0"
   },
   "source": [
    "The inhabitants of a one-dimensional village want to connect to the Internet, so they need a central service station from which a cable will stretch to all the houses in the village. Let the price of the cable to be pulled from the station to each house independently be determined by some function p(d) . Then it is clear that the village will have to pay the following amount for access to the World Wide Web:\n",
    "$$\n",
    "P(w, x) = \\sum\\limits_{i=1}^N p(d_i) = \\sum\\limits_{i=1}^N p(|w - x_i|)\n",
    "$$\n",
    "$w$ - station location, $x_i$ - location of $i$ house."
   ]
  },
  {
   "cell_type": "markdown",
   "metadata": {
    "heading_collapsed": true,
    "hidden": true,
    "id": "sO3lhbym1vUv"
   },
   "source": [
    "Write analytical solution $w^*$ for minimization $P(w,x)$, if $p(d) = d^2$"
   ]
  },
  {
   "cell_type": "markdown",
   "metadata": {
    "id": "BUZmjMHILjvm"
   },
   "source": [
    "**Решение**. $$\\frac{\\partial P}{\\partial w}=\\sum\\limits_{i=1}^N \\frac{\\partial p(w - x_i)}{\\partial w}=\\sum\\limits_{i=1}^N 2(w - x_i)=2\\left(Nw-\\sum\\limits_{i=1}^N x_i\\right)$$\n",
    "$$w^*=\\frac{1}{N}\\sum\\limits_{i=1}^N x_i$$"
   ]
  },
  {
   "cell_type": "markdown",
   "metadata": {
    "heading_collapsed": true,
    "hidden": true,
    "id": "Q84chDrl1vUv"
   },
   "source": [
    "Write loss function $P(x,w)$"
   ]
  },
  {
   "cell_type": "code",
   "execution_count": 22,
   "metadata": {
    "hidden": true,
    "id": "PPwj7e2h1vUw"
   },
   "outputs": [],
   "source": [
    "def P(x, w):\n",
    "    return np.sum((w-x)**2)"
   ]
  },
  {
   "cell_type": "markdown",
   "metadata": {
    "hidden": true,
    "id": "TefzahWd1vUw"
   },
   "source": [
    "Plot loss function on the range $(0, l)$"
   ]
  },
  {
   "cell_type": "code",
   "execution_count": 23,
   "metadata": {
    "id": "PMMQL-X2OJLL"
   },
   "outputs": [
    {
     "data": {
      "image/png": "[encoded data removed]",
      "text/plain": [
       "<Figure size 864x432 with 1 Axes>"
      ]
     },
     "metadata": {
      "needs_background": "light"
     },
     "output_type": "display_data"
    }
   ],
   "source": [
    "plt.figure(figsize=(12, 6))\n",
    "plt.plot(range(l), [P(x, i) for i in range(l)])\n",
    "plt.show()"
   ]
  },
  {
   "cell_type": "markdown",
   "metadata": {
    "heading_collapsed": true,
    "hidden": true,
    "id": "R5fZ71TR1vUx"
   },
   "source": [
    "Write gradient of loss function"
   ]
  },
  {
   "cell_type": "code",
   "execution_count": 24,
   "metadata": {
    "hidden": true,
    "id": "rRFYdfr11vUx"
   },
   "outputs": [],
   "source": [
    "def dP(x, w):\n",
    "    return 2 * (x.shape[0] * w - np.sum(x))"
   ]
  },
  {
   "cell_type": "markdown",
   "metadata": {
    "hidden": true,
    "id": "pj8be_b61vUx"
   },
   "source": [
    "Plot gradient of loss function on the range $(0,l)$. Which point on the graph is of particular interest? Why?"
   ]
  },
  {
   "cell_type": "code",
   "execution_count": 26,
   "metadata": {
    "id": "Jdf0V7dDOS9z"
   },
   "outputs": [
    {
     "data": {
      "image/png": "[encoded data removed]",
      "text/plain": [
       "<Figure size 864x432 with 1 Axes>"
      ]
     },
     "metadata": {
      "needs_background": "light"
     },
     "output_type": "display_data"
    }
   ],
   "source": [
    "plt.figure(figsize=(12, 6))\n",
    "plt.plot(range(l), [dP(x, i) for i in range(l)])\n",
    "plt.show()"
   ]
  },
  {
   "cell_type": "markdown",
   "metadata": {
    "heading_collapsed": true,
    "hidden": true,
    "id": "gj3XxPXA1vUy"
   },
   "source": [
    "Write function `gradient_descent`, which returns $w_k$ after a fixed number of steps.   \n",
    "\n",
    "$$\n",
    "w_{k+1} = w_k - \\mu \\nabla P(w_k)\n",
    "$$"
   ]
  },
  {
   "cell_type": "code",
   "execution_count": 34,
   "metadata": {
    "hidden": true,
    "id": "18oj4Hp21vUz"
   },
   "outputs": [],
   "source": [
    "def gradient_descent(x, w_0, steps_count, grad_P=dP, mu=0.1, N=25):\n",
    "    w_prev = w_0\n",
    "    for k in range(steps_count):\n",
    "        w_next = w_prev - mu * grad_P(x, w_prev) / N\n",
    "        w_prev = w_next\n",
    "    return w_next"
   ]
  },
  {
   "cell_type": "markdown",
   "metadata": {
    "heading_collapsed": true,
    "hidden": true,
    "id": "HqLslJrc1vUz"
   },
   "source": [
    "Modify `gradient_descent` to return all optimization trajectory.\n",
    "Plot loss function trajectory for the following learning rates $\\mu = 0.01, 0.1, 0.15, 0.19, 0.20, 0.21$.   \n",
    "Draw conclusions."
   ]
  },
  {
   "cell_type": "code",
   "execution_count": 46,
   "metadata": {
    "id": "jSTgBLyn9njm"
   },
   "outputs": [
    {
     "data": {
      "image/png": "[encoded data removed]",
      "text/plain": [
       "<Figure size 864x432 with 1 Axes>"
      ]
     },
     "metadata": {
      "needs_background": "light"
     },
     "output_type": "display_data"
    }
   ],
   "source": [
    "plt.figure(figsize=(12, 6))\n",
    "steps_count = 15\n",
    "for mu in [0.01, 0.1, 0.15, 0.19, 0.2, 0.21]:\n",
    "    w_0 = 2\n",
    "    w_history = []\n",
    "    loss_history = []\n",
    "    for i in range(steps_count):\n",
    "        w = gradient_descent(x, w_0, 1, mu=mu)\n",
    "        w_0 = w\n",
    "        w_history.append(w)\n",
    "        loss_history.append(P(x, w) / N)\n",
    "    plt.plot(range(steps_count), loss_history, label=f'lr={mu}')\n",
    "plt.legend()\n",
    "plt.show()"
   ]
  },
  {
   "cell_type": "markdown",
   "metadata": {
    "id": "UomW2-c7Jt9F"
   },
   "source": [
    "## Projected gradient descent\n",
    "\n",
    "Find projection on the $S$ set $\\pi_S (y) = \\pi$ if: \n",
    "\n",
    "$$\n",
    "S = \\{x \\in \\mathbb{R}^n \\mid Ax = b, A \\in \\mathbb{R}^{m \\times n}, b \\in \\mathbb{R}^{m}\\}, y \\notin S\n",
    "$$\n",
    "\n",
    "Hint: Check [fmin.xyz](https://fmin.xyz) "
   ]
  },
  {
   "cell_type": "markdown",
   "metadata": {
    "id": "6530wbrwQOU-"
   },
   "source": [
    "**Решение**. We need to find $\\arg\\min_{x\\in S}\\lVert{x-y}\\rVert^2$. So let's find the optimum of the following problem:\n",
    "$$\\min_{x\\in S}\\lVert{x-y}\\rVert^2.$$\n",
    "The Lagrange function is\n",
    "$$L(x, y, \\lambda)=\\langle x-y, x-y\\rangle + \\langle\\lambda, Ax-b\\rangle$$\n",
    "$$d_x L=2\\langle x-y, dx\\rangle + \\langle \\lambda, Adx\\rangle=\\langle 2x-2y+A^T\\lambda, dx\\rangle.$$\n",
    "$\\lambda^*$ can be found from the equation\n",
    "$$A(2x^*-2y+A^T\\lambda^*)=b \\iff b-2Ay+AA^T\\lambda^*=0 \\iff \\lambda^*=(AA^T)^{-1}(2Ay-b)$$\n",
    "and the answer will be\n",
    "$$x^*=y-\\frac{1}{2}A^T\\lambda^*=y-A^T(AA^T)^{-1}\\left(Ay-\\frac{1}{2}b\\right).$$"
   ]
  },
  {
   "cell_type": "markdown",
   "metadata": {
    "id": "b77tRayUkt8F"
   },
   "source": [
    "For following problem:\n",
    "\n",
    "$$\n",
    "\\left\\{ \\begin{array}{l} \n",
    "\\displaystyle \\big\\lVert Ax - b \\big\\rVert_2^2 \\longrightarrow \\min_{x \\in \\mathbb{R}^n}, \\\\\\\\[-1em]\n",
    "Cx = d.\n",
    "\\end{array} \\right. \\ \\ \\begin{array}{l}\n",
    "A \\in \\mathbb{R}^{m \\times n}, \\ m \\geq n, \\ \\text{rg}\\, A = n \\\\\n",
    "C \\in \\mathbb{R}^{k \\times n}, \\ k \\leq n, \\ \\text{rg}\\, C = k\n",
    "\\end{array} \\ b \\in \\mathbb{R}^m, \\ d \\in \\mathbb{R}^k\n",
    "$$\n"
   ]
  },
  {
   "cell_type": "markdown",
   "metadata": {
    "id": "PFQKwD04oXp-"
   },
   "source": [
    "* Write KKT conditions;\n",
    "\n",
    "The Lagrange function is\n",
    "$$L(x, \\lambda)=\\big\\lVert Ax - b \\big\\rVert_2^2 + \\lambda^T(Cx-d)$$\n",
    "$$d_x L=\\langle2A^T(Ax-b), dx\\rangle + \\langle C^T\\lambda, dx\\rangle$$\n",
    "KKT conditions:\n",
    "$$ Cx^*=d,\\quad  d_x L(x^*, \\lambda^*)=0$$"
   ]
  },
  {
   "cell_type": "markdown",
   "metadata": {
    "id": "hIV4kqWi9njy"
   },
   "source": [
    "* Find $x^\\ast$ - solution;\n",
    "$$2A^T(Ax^*-b)+C^T\\lambda^*=0\\quad\\implies\\quad x^*=\\frac{1}{2}(A^TA)^{-1}(2A^Tb-C^T\\lambda^*)$$\n",
    "$$Cx^*=d\\quad\\implies\\quad \\frac{1}{2}C(A^TA)^{-1}(2A^Tb-C^T\\lambda^*)=d\\quad\\implies\\quad \\lambda^*=2(CC^T)^{-1}(C(A^TA)^{-1}A^Tb-d)$$\n",
    "Answer:\n",
    "$$x^*=(A^TA)^{-1}\\bigg(A^Tb-C^T(CC^T)^{-1}(C(A^TA)^{-1}A^Tb-d)\\bigg)$$"
   ]
  },
  {
   "cell_type": "markdown",
   "metadata": {
    "id": "OeCH6n1Guv7X"
   },
   "source": [
    "Implement projected gradient descent for following task.\n",
    "\n",
    "$$\n",
    "\\left\\{ \\begin{array}{l} \n",
    "\\displaystyle \\big\\lVert Ax - b \\big\\rVert_2^2 \\longrightarrow \\min_{x \\in \\mathbb{R}^n}, \\\\\\\\[-1em]\n",
    "Cx = d.\n",
    "\\end{array} \\right. \\ \\ \\begin{array}{l}\n",
    "A \\in \\mathbb{R}^{m \\times n}, \\ m \\geq n, \\ \\text{rg}\\, A = n \\\\\n",
    "C \\in \\mathbb{R}^{k \\times n}, \\ k \\leq n, \\ \\text{rg}\\, C = k\n",
    "\\end{array} \\ b \\in \\mathbb{R}^m, \\ d \\in \\mathbb{R}^k\n",
    "$$\n",
    "\n",
    "Compare with analytical solution and `scipy.optimize`"
   ]
  },
  {
   "cell_type": "code",
   "execution_count": 2,
   "metadata": {
    "id": "vU5GALGEQRXB"
   },
   "outputs": [],
   "source": [
    "A = np.array([[1, 2],\n",
    "              [3, 4]])\n",
    "\n",
    "b = np.array([[5],\n",
    "              [6]])\n",
    "\n",
    "C = np.array([[7, 8],\n",
    "              [9, 10]])\n",
    "\n",
    "d = np.array([[11],\n",
    "              [12]])\n",
    "\n",
    "def gradient(x, A=A, b=b):\n",
    "    return 2 * A.T @ (A @ x - b)\n",
    "\n",
    "def projection(y, C=C, d=d):\n",
    "    return y - C.T @ np.linalg.inv(C.T @ C) @ (C @ y - d / 2)\n",
    "\n",
    "def gradient_descent(x0, steps_count=20, lr=1e-5, grad=gradient, proj=projection):\n",
    "    xs = [x0]\n",
    "    for i in range(steps_count):\n",
    "        xs.append(proj(xs[-1] - lr * grad(xs[-1])))\n",
    "    return xs\n",
    "\n",
    "def analytical_solution(A=A, b=b, C=C, d=d):\n",
    "    return np.linalg.inv(A.T @ A) @ (A.T @ b - C.T @ np.linalg.inv(C @ C.T) @ (C @ np.linalg.inv(A.T @ A) @ A.T @ b - d))"
   ]
  },
  {
   "cell_type": "code",
   "execution_count": 4,
   "metadata": {},
   "outputs": [],
   "source": [
    "# xs = gradient_descent(np.array([[-29.5], [22.5]]))\n",
    "# for i in range(len(xs)):\n",
    "#     print(i, xs[i][0], xs[i][1])"
   ]
  },
  {
   "cell_type": "code",
   "execution_count": 24,
   "metadata": {
    "scrolled": false
   },
   "outputs": [
    {
     "data": {
      "text/plain": [
       "array([[-29.5],\n",
       "       [ 22.5]])"
      ]
     },
     "execution_count": 24,
     "metadata": {},
     "output_type": "execute_result"
    }
   ],
   "source": [
    "analytical_solution()"
   ]
  },
  {
   "cell_type": "markdown",
   "metadata": {
    "id": "O9BmRPtkEWVm"
   },
   "source": [
    "##Newtown Method"
   ]
  },
  {
   "cell_type": "markdown",
   "metadata": {
    "id": "ips3RWPGGa5F"
   },
   "source": [
    "Докажите, что для метода Ньютона обладает афинной инвариантностью, т.е. если есть преобразование координат\n",
    "$\\hat{f}(z) = f(x)$, где $x = Sz + s$, $s \\in \\mathbb{R}^n$, $S \\in \\mathbb{R}^{n \\times n}$ то будет выполняться:\n",
    "\n",
    "$$\\nabla \\hat f(z) = S^T \\nabla f(x)$$\n",
    "\n",
    "$$\\nabla^2 \\hat{f} (z) = S^T \\nabla f(x) S$$"
   ]
  },
  {
   "cell_type": "markdown",
   "metadata": {
    "id": "N3DuqRyRGcTe"
   },
   "source": [
    "**Решение**. We have\n",
    "$$\\langle \\nabla f\\hat(z), dz\\rangle=\\langle \\nabla f(x), Sdx\\rangle=\\langle S^T\\nabla f(x),dx\\rangle$$\n",
    "and\n",
    "$$\\langle \\nabla^2f\\hat(z)dz_1, dz_2\\rangle=\\langle \\nabla^2f(x)Sdx_1, Sdx_2\\rangle=\\langle S^T\\nabla^2f(x)Sdx_1, dx_2\\rangle$$\n",
    "as needed."
   ]
  },
  {
   "cell_type": "markdown",
   "metadata": {
    "id": "sC2UyzuXEaOe"
   },
   "source": [
    "Реализуйте на языке python метод Ньютона для минимизации следующих функций:\n",
    "* Квадратичная форма $f(x) = \\frac{1}{2}x^TAx + b^Tx$, $x \\in \\mathbb{R}^n$, $A \\in \\mathbb{S}_+^{n \\times n}$. Попробуйте n = 2, 50, 228\n",
    "* Функция Розенброка $f(x,y) = (1 - x)^2 + 100(y - x^2)^2 $\n",
    "\n",
    "Сравните реализованный Вами метод и метод [BFGS](https://docs.scipy.org/doc/scipy/reference/optimize.minimize-bfgs.html) из библиотеки scipy , а так же его модификацию [L-BFGS](https://docs.scipy.org/doc/scipy/reference/optimize.minimize-lbfgsb.html) в решении\n",
    "задачи минимизации описанных выше функций. точку старта необходимо инициализировать одинаковую для всех\n",
    "методов в рамках одного запуска. Необходимо провести не менее 10 запусков для каждого метода на каждой функции до\n",
    "достижения того критерия остановки, который вы выберете (например, расстояние до точки оптимума - во всех задачах\n",
    "мы её знаем).\n",
    "\n",
    "В качестве результата нужно для каждого метода и каждой задачи для различных размерностей(в задаче квадратичного программирования) вывести число итераций для достижения необходимой точности сходимости и время работы метода (усредненнить по числу запусков количество\n",
    "итераций, необходимых для сходимости и времени работы).\n",
    "\n",
    "P.S. если в силу каких то причин Вам не удалось сделать задание полностью, попробуйте сфокусироваться хотя бы на его\n",
    "части."
   ]
  },
  {
   "cell_type": "code",
   "execution_count": 54,
   "metadata": {
    "id": "iq9X4Ed6Hmaq"
   },
   "outputs": [],
   "source": [
    "def newton(func, derivative, nabla_squared, x_init, A, b, steps_count=15):\n",
    "    x_prev = x_init\n",
    "    x_history = [x_init]\n",
    "    for i in range(steps_count):\n",
    "        x_next = x_prev - np.linalg.inv(nabla_squared(x_prev, A, b)) @ derivative(x_prev, A, b)\n",
    "        x_history.append(x_next)\n",
    "        x_prev = x_next\n",
    "    return x_history"
   ]
  },
  {
   "cell_type": "code",
   "execution_count": 6,
   "metadata": {},
   "outputs": [],
   "source": [
    "def quadr_form(x, A, b):\n",
    "    return x.T @ A @ x / 2 + b.T @ x\n",
    "\n",
    "def quadr_derivative(x, A, b):\n",
    "    return A @ x + b\n",
    "\n",
    "def quadr_nabla_squared(x, A, b):\n",
    "    return A"
   ]
  },
  {
   "cell_type": "code",
   "execution_count": 7,
   "metadata": {},
   "outputs": [],
   "source": [
    "def rosen(xy, A=None, b=None):\n",
    "    x = xy[0]\n",
    "    y = xy[1]\n",
    "    return (1 - x)**2 + 100 * (y - x**2)**2\n",
    "\n",
    "def rosen_derivative(xy, A=None, b=None):\n",
    "    x = xy[0]\n",
    "    y = xy[1]\n",
    "    return np.array([2 * (x - 1) + 400 * x * (x**2 - y), \n",
    "                     200 * (y - x**2)])\n",
    "\n",
    "def rosen_nabla_squared(xy, A=None, b=None):\n",
    "    x = xy[0]\n",
    "    y = xy[1]\n",
    "    return np.array([[2 + 1200*x**2 - 400*y, -400*x],\n",
    "                     [-400*x, 200]], dtype='float')"
   ]
  },
  {
   "cell_type": "code",
   "execution_count": 50,
   "metadata": {},
   "outputs": [
    {
     "name": "stdout",
     "output_type": "stream",
     "text": [
      "n = 2\n",
      "BFGS iter count: 12, LBFGSB iter count: 9\n",
      "n = 50\n",
      "BFGS iter count: 99, LBFGSB iter count: 120\n",
      "n = 228\n",
      "BFGS iter count: 120, LBFGSB iter count: 55\n"
     ]
    }
   ],
   "source": [
    "from scipy.optimize import minimize\n",
    "\n",
    "for n in [2, 50, 228]:\n",
    "    print(f'n = {n}')\n",
    "    A = np.random.rand(n, n)\n",
    "    A = A @ A.T # now A is positively semidefinite\n",
    "    A = A + A.T # and now A is symmetric too\n",
    "    b = np.random.rand(n, 1)\n",
    "    x0 = np.random.rand(n, 1)\n",
    "    maxiter = 120\n",
    "    \n",
    "    xs = newton(quadr_form, quadr_derivative, quadr_nabla_squared, x0, A, b)\n",
    "    \n",
    "    BFGS_res = minimize(quadr_form, x0, args=(A, b), method='BFGS', options={'maxiter': maxiter})\n",
    "    \n",
    "    LBFGSB_res = minimize(quadr_form, x0, args=(A, b), method='L-BFGS-B', options={'maxiter': maxiter})\n",
    "    \n",
    "    BFGS_error = np.sum((xs[-1].reshape((n,)) - BFGS_res.x)**2) / np.sum(xs[-1].reshape((n,))**2 + BFGS_res.x**2)\n",
    "    LBFGSB_error = np.sum((xs[-1].reshape((n,)) - LBFGSB_res.x)**2) / np.sum(xs[-1].reshape((n,))**2 + LBFGSB_res.x**2)\n",
    "    \n",
    "#     print('ans:', xs[-1].reshape((n,)))\n",
    "#     print('bfgs:', BFGS_res.x)\n",
    "#     print('lbfgsb:', LBFGSB_res.x)\n",
    "#     print(f'BFGS_error = {BFGS_error},\\nLBFGSB_error = {LBFGSB_error}\\n')\n",
    "\n",
    "    print(f'BFGS iter count: {BFGS_res.nit},', f'LBFGSB iter count: {LBFGSB_res.nit}')"
   ]
  },
  {
   "cell_type": "code",
   "execution_count": 111,
   "metadata": {},
   "outputs": [
    {
     "name": "stdout",
     "output_type": "stream",
     "text": [
      "handwritten result: [1. 1.]\n",
      "BFGS result: [0.9999964  0.99999275]\n",
      "L-BFGS-B result: [0.99999616 0.99999227]\n"
     ]
    }
   ],
   "source": [
    "xs = newton(rosen, rosen_derivative, rosen_nabla_squared, np.array([[5], [12]]))\n",
    "print('handwritten result:', xs[-1].reshape((2,)))\n",
    "res = minimize(rosen, np.array([[5], [15]]), method='BFGS')\n",
    "print('BFGS result:', res.x)\n",
    "res = minimize(rosen, np.array([[5], [15]]), method='L-BFGS-B')\n",
    "print('L-BFGS-B result:', res.x)"
   ]
  },
  {
   "cell_type": "code",
   "execution_count": 55,
   "metadata": {},
   "outputs": [
    {
     "name": "stdout",
     "output_type": "stream",
     "text": [
      "handwritten result: [1. 1.]\n",
      "BFGS result: [0.9999964  0.99999275]\n",
      "L-BFGS-B result: [0.99999616 0.99999227]\n"
     ]
    }
   ],
   "source": [
    "A = np.array([[2, -1],\n",
    "              [-1, 7]])\n",
    "\n",
    "b = np.array([[3], \n",
    "              [5]])\n",
    "\n",
    "xs = newton(rosen, rosen_derivative, rosen_nabla_squared, np.array([[5], [15]]), A=A, b=b)\n",
    "print('handwritten result:', xs[-1].reshape((2,)))\n",
    "res = minimize(rosen, np.array([[5], [15]]), method='BFGS')\n",
    "print('BFGS result:', res.x)\n",
    "res = minimize(rosen, np.array([[5], [15]]), method='L-BFGS-B')\n",
    "print('L-BFGS-B result:', res.x)"
   ]
  },
  {
   "cell_type": "markdown",
   "metadata": {
    "id": "BrJtpUgYB16C"
   },
   "source": [
    "## Linear Programming"
   ]
  },
  {
   "cell_type": "markdown",
   "metadata": {
    "id": "8lcAZfNjB9Y9"
   },
   "source": [
    "Random Corp is producing covers for following products:\n",
    "\n",
    "* phones\n",
    "* headphones\n",
    "* laptops\n",
    "\n",
    "The company’s production facilities are such that if we devote the entire production to headphones covers, we can produce 5000 of\n",
    "them in one day. If we devote the entire production to phone covers or laptop covers, we can produce 4000 or 2000 of them in one\n",
    "day.\n",
    "The production schedule is one week (6 working days), and the week’s production must be stored before distribution. Storing 1000\n",
    "headphones covers (packaging included) takes up 30 cubic feet of space. Storing 1000 phone covers (packaging included) takes up\n",
    "50 cubic feet of space, and storing 1000 laptop covers (packaging included) takes up 220 cubic feet of space. The total storage\n",
    "space available is 6000 cubic feet.\n",
    "Due to commercial agreements with Random Corp has to deliver at least 4500 headphones covers and 3000 laptop covers per week\n",
    "in order to strengthen the product’s diffusion.\n",
    "The marketing department estimates that the weekly demand for headphones covers, phone, and laptop covers does not exceed\n",
    "9000 and 14000, and 7000 units, therefore the company does not want to produce more than these amounts for headphones, phone,\n",
    "and laptop covers.\n",
    "Finally, the net prot per each headphones cover, phone cover, and laptop cover is $5, $7, and $12, respectively.\n",
    "The aim is to determine a weekly production schedule that maximizes the total net prot."
   ]
  },
  {
   "cell_type": "markdown",
   "metadata": {
    "id": "8G82JF54DHDU"
   },
   "source": [
    "Find the solution to the problem using [PuLP](https://coin-or.github.io/pulp/)"
   ]
  },
  {
   "cell_type": "code",
   "execution_count": 63,
   "metadata": {
    "id": "qxVctqy_DGgM"
   },
   "outputs": [
    {
     "name": "stdout",
     "output_type": "stream",
     "text": [
      "Status: Optimal\n",
      "HeadphoneCoversCount = 5000.0\n",
      "LaptopCoversCount = 3000.0\n",
      "PhoneCoversCount = 14000.0\n"
     ]
    }
   ],
   "source": [
    "from pulp import *\n",
    "\n",
    "prob = LpProblem(\"TheRandomCorpProblem\", LpMaximize)\n",
    "\n",
    "x1 = LpVariable(\"HeadphoneCoversCount\", 4500, 9000, LpInteger)\n",
    "x2 = LpVariable(\"PhoneCoversCount\", 0, 14000, LpInteger)\n",
    "x3 = LpVariable(\"LaptopCoversCount\", 3000, 7000, LpInteger)\n",
    "\n",
    "prob += 5 * x1 + 7 * x2 + 12 * x3, \"TheProfit\"\n",
    "\n",
    "prob += 4 * x1 + 5 * x2 + 10 * x3 == 120000, \"TimeRequirement\"\n",
    "prob += 3 * x1 + 5 * x2 + 22 * x3 <= 600000, \"SpaceRequirement\"\n",
    "\n",
    "prob.writeLP(\"RandomCorpModel.lp\")\n",
    "\n",
    "prob.solve()\n",
    "\n",
    "print(\"Status:\", LpStatus[prob.status])\n",
    "\n",
    "for v in prob.variables():\n",
    "    print(v.name, \"=\", v.varValue)"
   ]
  },
  {
   "cell_type": "code",
   "execution_count": null,
   "metadata": {},
   "outputs": [],
   "source": []
  }
 ],
 "metadata": {
  "colab": {
   "collapsed_sections": [],
   "name": "Optimization_HW3.ipynb",
   "provenance": [],
   "toc_visible": true
  },
  "kernelspec": {
   "display_name": "Python 3",
   "language": "python",
   "name": "python3"
  },
  "language_info": {
   "codemirror_mode": {
    "name": "ipython",
    "version": 3
   },
   "file_extension": ".py",
   "mimetype": "text/x-python",
   "name": "python",
   "nbconvert_exporter": "python",
   "pygments_lexer": "ipython3",
   "version": "3.7.4"
  }
 },
 "nbformat": 4,
 "nbformat_minor": 1
}
